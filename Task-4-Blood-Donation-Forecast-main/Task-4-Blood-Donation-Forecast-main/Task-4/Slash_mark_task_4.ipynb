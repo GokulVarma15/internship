{
  "cells": [
    {
      "cell_type": "code",
      "execution_count": 1,
      "metadata": {
        "colab": {
          "base_uri": "https://localhost:8080/",
          "height": 845
        },
        "id": "jm5r4O4r1-ld",
        "outputId": "2905cd3e-017f-439b-9287-feb0af0a944e"
      },
      "outputs": [
        {
          "name": "stdout",
          "output_type": "stream",
          "text": [
            "Requirement already satisfied: TPOT in c:\\users\\gokul\\appdata\\local\\programs\\python\\python312\\lib\\site-packages (0.12.2)\n",
            "Requirement already satisfied: numpy>=1.16.3 in c:\\users\\gokul\\appdata\\local\\programs\\python\\python312\\lib\\site-packages (from TPOT) (1.26.4)\n",
            "Requirement already satisfied: scipy>=1.3.1 in c:\\users\\gokul\\appdata\\local\\programs\\python\\python312\\lib\\site-packages (from TPOT) (1.12.0)\n",
            "Requirement already satisfied: scikit-learn>=1.4.1 in c:\\users\\gokul\\appdata\\local\\programs\\python\\python312\\lib\\site-packages (from TPOT) (1.4.2)\n",
            "Requirement already satisfied: deap>=1.2 in c:\\users\\gokul\\appdata\\local\\programs\\python\\python312\\lib\\site-packages (from TPOT) (1.4.1)\n",
            "Requirement already satisfied: update-checker>=0.16 in c:\\users\\gokul\\appdata\\local\\programs\\python\\python312\\lib\\site-packages (from TPOT) (0.18.0)\n",
            "Requirement already satisfied: tqdm>=4.36.1 in c:\\users\\gokul\\appdata\\local\\programs\\python\\python312\\lib\\site-packages (from TPOT) (4.66.4)\n",
            "Requirement already satisfied: stopit>=1.1.1 in c:\\users\\gokul\\appdata\\local\\programs\\python\\python312\\lib\\site-packages (from TPOT) (1.1.2)\n",
            "Requirement already satisfied: pandas>=0.24.2 in c:\\users\\gokul\\appdata\\local\\programs\\python\\python312\\lib\\site-packages (from TPOT) (2.2.0)\n",
            "Requirement already satisfied: joblib>=0.13.2 in c:\\users\\gokul\\appdata\\local\\programs\\python\\python312\\lib\\site-packages (from TPOT) (1.3.2)\n",
            "Requirement already satisfied: xgboost>=1.1.0 in c:\\users\\gokul\\appdata\\local\\programs\\python\\python312\\lib\\site-packages (from TPOT) (2.1.0)\n",
            "Requirement already satisfied: python-dateutil>=2.8.2 in c:\\users\\gokul\\appdata\\local\\programs\\python\\python312\\lib\\site-packages (from pandas>=0.24.2->TPOT) (2.8.2)\n",
            "Requirement already satisfied: pytz>=2020.1 in c:\\users\\gokul\\appdata\\local\\programs\\python\\python312\\lib\\site-packages (from pandas>=0.24.2->TPOT) (2024.1)\n",
            "Requirement already satisfied: tzdata>=2022.7 in c:\\users\\gokul\\appdata\\local\\programs\\python\\python312\\lib\\site-packages (from pandas>=0.24.2->TPOT) (2024.1)\n",
            "Requirement already satisfied: threadpoolctl>=2.0.0 in c:\\users\\gokul\\appdata\\local\\programs\\python\\python312\\lib\\site-packages (from scikit-learn>=1.4.1->TPOT) (3.3.0)\n",
            "Requirement already satisfied: colorama in c:\\users\\gokul\\appdata\\local\\programs\\python\\python312\\lib\\site-packages (from tqdm>=4.36.1->TPOT) (0.4.6)\n",
            "Requirement already satisfied: requests>=2.3.0 in c:\\users\\gokul\\appdata\\local\\programs\\python\\python312\\lib\\site-packages (from update-checker>=0.16->TPOT) (2.31.0)\n",
            "Requirement already satisfied: six>=1.5 in c:\\users\\gokul\\appdata\\local\\programs\\python\\python312\\lib\\site-packages (from python-dateutil>=2.8.2->pandas>=0.24.2->TPOT) (1.16.0)\n",
            "Requirement already satisfied: charset-normalizer<4,>=2 in c:\\users\\gokul\\appdata\\local\\programs\\python\\python312\\lib\\site-packages (from requests>=2.3.0->update-checker>=0.16->TPOT) (3.3.2)\n",
            "Requirement already satisfied: idna<4,>=2.5 in c:\\users\\gokul\\appdata\\local\\programs\\python\\python312\\lib\\site-packages (from requests>=2.3.0->update-checker>=0.16->TPOT) (3.6)\n",
            "Requirement already satisfied: urllib3<3,>=1.21.1 in c:\\users\\gokul\\appdata\\local\\programs\\python\\python312\\lib\\site-packages (from requests>=2.3.0->update-checker>=0.16->TPOT) (2.2.1)\n",
            "Requirement already satisfied: certifi>=2017.4.17 in c:\\users\\gokul\\appdata\\local\\programs\\python\\python312\\lib\\site-packages (from requests>=2.3.0->update-checker>=0.16->TPOT) (2024.2.2)\n",
            "Note: you may need to restart the kernel to use updated packages.\n"
          ]
        },
        {
          "name": "stderr",
          "output_type": "stream",
          "text": [
            "\n",
            "[notice] A new release of pip is available: 23.2.1 -> 24.1\n",
            "[notice] To update, run: python.exe -m pip install --upgrade pip\n"
          ]
        }
      ],
      "source": [
        "pip install TPOT"
      ]
    },
    {
      "cell_type": "code",
      "execution_count": 7,
      "metadata": {
        "colab": {
          "base_uri": "https://localhost:8080/"
        },
        "id": "3uLmd1woHY-1",
        "outputId": "4db01869-5be8-4ac7-f72f-fd788d058479"
      },
      "outputs": [
        {
          "name": "stdout",
          "output_type": "stream",
          "text": [
            "<class 'pandas.core.frame.DataFrame'>\n",
            "RangeIndex: 748 entries, 0 to 747\n",
            "Data columns (total 5 columns):\n",
            " #   Column                                      Non-Null Count  Dtype\n",
            "---  ------                                      --------------  -----\n",
            " 0   Recency (months)                            748 non-null    int64\n",
            " 1   Frequency (times)                           748 non-null    int64\n",
            " 2   Monetary (c.c. blood)                       748 non-null    int64\n",
            " 3   Time (months)                               748 non-null    int64\n",
            " 4   whether he/she donated blood in March 2007  748 non-null    int64\n",
            "dtypes: int64(5)\n",
            "memory usage: 29.3 KB\n",
            "\n",
            "AUC score for Logistic Regression: 0.7891\n",
            "Logistic Regression: 0.7891\n"
          ]
        }
      ],
      "source": [
        "# Import pandas\n",
        "import pandas as pd\n",
        "\n",
        "# Read in dataset\n",
        "transfusion = pd.read_csv('transfusion.data')\n",
        "\n",
        "# Print out the first rows of our dataset\n",
        "transfusion.head()\n",
        "\n",
        "# Print a concise summary of transfusion DataFrame\n",
        "transfusion.info()\n",
        "\n",
        "# Rename target column as 'target' for brevity\n",
        "transfusion.rename(\n",
        "    columns={'whether he/she donated blood in March 2007': 'target'},\n",
        "    inplace=True\n",
        ")\n",
        "\n",
        "# Import train_test_split method\n",
        "from sklearn.model_selection import train_test_split\n",
        "\n",
        "# Split transfusion DataFrame into\n",
        "# X_train, X_test, y_train and y_test datasets,\n",
        "# stratifying on the `target` column\n",
        "X_train, X_test, y_train, y_test = train_test_split(\n",
        "    transfusion.drop(columns='target'),\n",
        "    transfusion.target,\n",
        "    test_size=0.25,\n",
        "    random_state=42,\n",
        "    stratify=transfusion.target\n",
        ")\n",
        "\n",
        "# Print out the first 2 rows of X_train\n",
        "X_train.head(2)\n",
        "\n",
        "# Import numpy\n",
        "import numpy as np\n",
        "\n",
        "# Copy X_train and X_test into X_train_normed and X_test_normed\n",
        "X_train_normed, X_test_normed = X_train.copy(), X_test.copy()\n",
        "\n",
        "# Specify which column to normalize\n",
        "col_to_normalize = 'Monetary (c.c. blood)'\n",
        "\n",
        "# Log normalization\n",
        "for df_ in [X_train_normed, X_test_normed]:\n",
        "    # Add log normalized column\n",
        "    df_['monetary_log'] = np.log(df_[col_to_normalize])\n",
        "    # Drop the original column\n",
        "    df_.drop(columns=col_to_normalize, inplace=True)\n",
        "\n",
        "# Check the variance for X_train_normed\n",
        "X_train_normed.var().round(3)\n",
        "\n",
        "# Importing modules\n",
        "from sklearn import linear_model\n",
        "from sklearn.metrics import roc_auc_score\n",
        "\n",
        "# Instantiate LogisticRegression\n",
        "logreg = linear_model.LogisticRegression(\n",
        "    solver='liblinear',\n",
        "    random_state=42\n",
        ")\n",
        "\n",
        "# Train the model\n",
        "logreg.fit(X_train_normed, y_train)\n",
        "\n",
        "# AUC score for logistic regression model\n",
        "logreg_auc_score = roc_auc_score(y_test, logreg.predict_proba(X_test_normed)[:, 1])\n",
        "print(f'\\nAUC score for Logistic Regression: {logreg_auc_score:.4f}')\n",
        "\n",
        "# Importing itemgetter\n",
        "from operator import itemgetter\n",
        "\n",
        "# Create a dictionary to store model names and AUC scores\n",
        "models_scores = {}\n",
        "\n",
        "# Calculating AUC score for Logistic Regression\n",
        "models_scores['Logistic Regression'] = logreg_auc_score\n",
        "\n",
        "# Print the model names and AUC scores sorted by AUC score\n",
        "sorted_models = sorted(models_scores.items(), key=itemgetter(1), reverse=True)\n",
        "for model, score in sorted_models:\n",
        "    print(f'{model}: {score:.4f}')\n"
      ]
    },
    {
      "cell_type": "code",
      "execution_count": null,
      "metadata": {},
      "outputs": [],
      "source": []
    },
    {
      "cell_type": "code",
      "execution_count": null,
      "metadata": {},
      "outputs": [],
      "source": []
    },
    {
      "cell_type": "code",
      "execution_count": null,
      "metadata": {},
      "outputs": [],
      "source": []
    },
    {
      "cell_type": "code",
      "execution_count": null,
      "metadata": {},
      "outputs": [],
      "source": []
    },
    {
      "cell_type": "code",
      "execution_count": null,
      "metadata": {},
      "outputs": [],
      "source": []
    },
    {
      "cell_type": "code",
      "execution_count": null,
      "metadata": {},
      "outputs": [],
      "source": []
    }
  ],
  "metadata": {
    "colab": {
      "provenance": []
    },
    "kernelspec": {
      "display_name": "Python 3",
      "name": "python3"
    },
    "language_info": {
      "codemirror_mode": {
        "name": "ipython",
        "version": 3
      },
      "file_extension": ".py",
      "mimetype": "text/x-python",
      "name": "python",
      "nbconvert_exporter": "python",
      "pygments_lexer": "ipython3",
      "version": "3.12.1"
    }
  },
  "nbformat": 4,
  "nbformat_minor": 0
}
